{
 "metadata": {
  "language_info": {
   "codemirror_mode": {
    "name": "ipython",
    "version": 3
   },
   "file_extension": ".py",
   "mimetype": "text/x-python",
   "name": "python",
   "nbconvert_exporter": "python",
   "pygments_lexer": "ipython3",
   "version": "3.6.12-final"
  },
  "orig_nbformat": 2,
  "kernelspec": {
   "name": "python3",
   "display_name": "Python 3"
  }
 },
 "nbformat": 4,
 "nbformat_minor": 2,
 "cells": [
  {
   "cell_type": "code",
   "execution_count": 1,
   "metadata": {},
   "outputs": [],
   "source": [
    "import pandas as pd \n",
    "import numpy as np \n",
    "import os"
   ]
  },
  {
   "cell_type": "code",
   "execution_count": 2,
   "metadata": {},
   "outputs": [],
   "source": [
    "user_traits = pd.read_csv(os.path.join(\"data\", \"user_traits.csv\"))\n",
    "like_users = pd.DataFrame(pd.read_csv(os.path.join(\"data\", \"user_likes_chars.csv\"))[\"user_id\"].unique())\n",
    "like_users.rename({0: \"user_id\"}, axis = 1, inplace=True)"
   ]
  },
  {
   "cell_type": "code",
   "execution_count": 3,
   "metadata": {},
   "outputs": [],
   "source": [
    "traits_dict = user_traits.merge(like_users, how = \"inner\", on = \"user_id\")[\"traits\"].apply(lambda x: dict(eval(x)))\n",
    "data_df = pd.concat([user_traits.merge(like_users, how = \"inner\", on = \"user_id\").loc[:, [\"user_id\"]], pd.json_normalize(traits_dict)], axis=1)"
   ]
  },
  {
   "cell_type": "code",
   "execution_count": 4,
   "metadata": {},
   "outputs": [
    {
     "output_type": "execute_result",
     "data": {
      "text/plain": [
       "       user_id    1    2    3    4    5    6    7    8    9  ...   16   17  \\\n",
       "0           26  2.3  1.6  2.5  2.3  1.6  2.2  2.7  1.4  3.9  ...  1.2  2.0   \n",
       "1           28  1.5  1.4  1.5  1.5  4.5  4.6  4.6  1.4  1.4  ...  1.5  1.6   \n",
       "2           34  4.6  3.5  4.6  2.0  4.4  1.4  4.0  4.6  3.8  ...  2.1  4.6   \n",
       "3           36  2.5  3.0  2.3  2.0  2.5  2.6  3.9  1.5  2.0  ...  1.8  1.5   \n",
       "4           45  1.4  2.6  2.5  2.6  3.5  3.5  2.4  3.5  3.0  ...  2.6  2.5   \n",
       "...        ...  ...  ...  ...  ...  ...  ...  ...  ...  ...  ...  ...  ...   \n",
       "32429   398186  1.8  4.1  3.9  2.5  3.0  4.0  3.0  3.0  2.1  ...  3.3  4.0   \n",
       "32430   398196  2.1  2.5  3.4  2.0  1.5  1.9  3.0  3.5  2.4  ...  2.5  1.9   \n",
       "32431   398243  2.5  3.1  2.7  2.8  3.6  4.2  3.6  3.3  3.7  ...  3.0  3.6   \n",
       "32432   398367  2.6  2.4  4.5  2.3  1.0  3.6  3.4  1.4  2.5  ...  2.4  1.0   \n",
       "32433   398375  2.8  2.4  3.9  4.5  3.6  1.0  2.5  1.8  3.0  ...  2.5  1.0   \n",
       "\n",
       "        18   19   20   21   22   23   24   25  \n",
       "0      2.0  1.5  3.8  3.0  3.0  2.5  2.7  4.3  \n",
       "1      4.5  1.5  1.5  1.5  1.6  4.5  1.4  1.5  \n",
       "2      1.3  2.0  3.2  2.0  2.0  4.5  1.6  4.6  \n",
       "3      2.4  2.6  1.8  3.0  3.0  3.0  2.9  3.4  \n",
       "4      3.4  1.3  3.5  2.7  3.4  2.5  2.6  2.5  \n",
       "...    ...  ...  ...  ...  ...  ...  ...  ...  \n",
       "32429  3.0  2.0  4.7  3.0  3.0  3.1  3.0  2.0  \n",
       "32430  2.4  2.3  3.5  3.0  3.0  2.4  3.6  3.6  \n",
       "32431  3.6  2.4  3.4  3.0  3.0  5.0  3.6  3.4  \n",
       "32432  3.4  2.4  3.6  3.0  3.0  4.6  3.6  2.4  \n",
       "32433  3.0  2.1  3.0  3.0  3.0  2.7  2.5  2.5  \n",
       "\n",
       "[32434 rows x 26 columns]"
      ],
      "text/html": "<div>\n<style scoped>\n    .dataframe tbody tr th:only-of-type {\n        vertical-align: middle;\n    }\n\n    .dataframe tbody tr th {\n        vertical-align: top;\n    }\n\n    .dataframe thead th {\n        text-align: right;\n    }\n</style>\n<table border=\"1\" class=\"dataframe\">\n  <thead>\n    <tr style=\"text-align: right;\">\n      <th></th>\n      <th>user_id</th>\n      <th>1</th>\n      <th>2</th>\n      <th>3</th>\n      <th>4</th>\n      <th>5</th>\n      <th>6</th>\n      <th>7</th>\n      <th>8</th>\n      <th>9</th>\n      <th>...</th>\n      <th>16</th>\n      <th>17</th>\n      <th>18</th>\n      <th>19</th>\n      <th>20</th>\n      <th>21</th>\n      <th>22</th>\n      <th>23</th>\n      <th>24</th>\n      <th>25</th>\n    </tr>\n  </thead>\n  <tbody>\n    <tr>\n      <th>0</th>\n      <td>26</td>\n      <td>2.3</td>\n      <td>1.6</td>\n      <td>2.5</td>\n      <td>2.3</td>\n      <td>1.6</td>\n      <td>2.2</td>\n      <td>2.7</td>\n      <td>1.4</td>\n      <td>3.9</td>\n      <td>...</td>\n      <td>1.2</td>\n      <td>2.0</td>\n      <td>2.0</td>\n      <td>1.5</td>\n      <td>3.8</td>\n      <td>3.0</td>\n      <td>3.0</td>\n      <td>2.5</td>\n      <td>2.7</td>\n      <td>4.3</td>\n    </tr>\n    <tr>\n      <th>1</th>\n      <td>28</td>\n      <td>1.5</td>\n      <td>1.4</td>\n      <td>1.5</td>\n      <td>1.5</td>\n      <td>4.5</td>\n      <td>4.6</td>\n      <td>4.6</td>\n      <td>1.4</td>\n      <td>1.4</td>\n      <td>...</td>\n      <td>1.5</td>\n      <td>1.6</td>\n      <td>4.5</td>\n      <td>1.5</td>\n      <td>1.5</td>\n      <td>1.5</td>\n      <td>1.6</td>\n      <td>4.5</td>\n      <td>1.4</td>\n      <td>1.5</td>\n    </tr>\n    <tr>\n      <th>2</th>\n      <td>34</td>\n      <td>4.6</td>\n      <td>3.5</td>\n      <td>4.6</td>\n      <td>2.0</td>\n      <td>4.4</td>\n      <td>1.4</td>\n      <td>4.0</td>\n      <td>4.6</td>\n      <td>3.8</td>\n      <td>...</td>\n      <td>2.1</td>\n      <td>4.6</td>\n      <td>1.3</td>\n      <td>2.0</td>\n      <td>3.2</td>\n      <td>2.0</td>\n      <td>2.0</td>\n      <td>4.5</td>\n      <td>1.6</td>\n      <td>4.6</td>\n    </tr>\n    <tr>\n      <th>3</th>\n      <td>36</td>\n      <td>2.5</td>\n      <td>3.0</td>\n      <td>2.3</td>\n      <td>2.0</td>\n      <td>2.5</td>\n      <td>2.6</td>\n      <td>3.9</td>\n      <td>1.5</td>\n      <td>2.0</td>\n      <td>...</td>\n      <td>1.8</td>\n      <td>1.5</td>\n      <td>2.4</td>\n      <td>2.6</td>\n      <td>1.8</td>\n      <td>3.0</td>\n      <td>3.0</td>\n      <td>3.0</td>\n      <td>2.9</td>\n      <td>3.4</td>\n    </tr>\n    <tr>\n      <th>4</th>\n      <td>45</td>\n      <td>1.4</td>\n      <td>2.6</td>\n      <td>2.5</td>\n      <td>2.6</td>\n      <td>3.5</td>\n      <td>3.5</td>\n      <td>2.4</td>\n      <td>3.5</td>\n      <td>3.0</td>\n      <td>...</td>\n      <td>2.6</td>\n      <td>2.5</td>\n      <td>3.4</td>\n      <td>1.3</td>\n      <td>3.5</td>\n      <td>2.7</td>\n      <td>3.4</td>\n      <td>2.5</td>\n      <td>2.6</td>\n      <td>2.5</td>\n    </tr>\n    <tr>\n      <th>...</th>\n      <td>...</td>\n      <td>...</td>\n      <td>...</td>\n      <td>...</td>\n      <td>...</td>\n      <td>...</td>\n      <td>...</td>\n      <td>...</td>\n      <td>...</td>\n      <td>...</td>\n      <td>...</td>\n      <td>...</td>\n      <td>...</td>\n      <td>...</td>\n      <td>...</td>\n      <td>...</td>\n      <td>...</td>\n      <td>...</td>\n      <td>...</td>\n      <td>...</td>\n      <td>...</td>\n    </tr>\n    <tr>\n      <th>32429</th>\n      <td>398186</td>\n      <td>1.8</td>\n      <td>4.1</td>\n      <td>3.9</td>\n      <td>2.5</td>\n      <td>3.0</td>\n      <td>4.0</td>\n      <td>3.0</td>\n      <td>3.0</td>\n      <td>2.1</td>\n      <td>...</td>\n      <td>3.3</td>\n      <td>4.0</td>\n      <td>3.0</td>\n      <td>2.0</td>\n      <td>4.7</td>\n      <td>3.0</td>\n      <td>3.0</td>\n      <td>3.1</td>\n      <td>3.0</td>\n      <td>2.0</td>\n    </tr>\n    <tr>\n      <th>32430</th>\n      <td>398196</td>\n      <td>2.1</td>\n      <td>2.5</td>\n      <td>3.4</td>\n      <td>2.0</td>\n      <td>1.5</td>\n      <td>1.9</td>\n      <td>3.0</td>\n      <td>3.5</td>\n      <td>2.4</td>\n      <td>...</td>\n      <td>2.5</td>\n      <td>1.9</td>\n      <td>2.4</td>\n      <td>2.3</td>\n      <td>3.5</td>\n      <td>3.0</td>\n      <td>3.0</td>\n      <td>2.4</td>\n      <td>3.6</td>\n      <td>3.6</td>\n    </tr>\n    <tr>\n      <th>32431</th>\n      <td>398243</td>\n      <td>2.5</td>\n      <td>3.1</td>\n      <td>2.7</td>\n      <td>2.8</td>\n      <td>3.6</td>\n      <td>4.2</td>\n      <td>3.6</td>\n      <td>3.3</td>\n      <td>3.7</td>\n      <td>...</td>\n      <td>3.0</td>\n      <td>3.6</td>\n      <td>3.6</td>\n      <td>2.4</td>\n      <td>3.4</td>\n      <td>3.0</td>\n      <td>3.0</td>\n      <td>5.0</td>\n      <td>3.6</td>\n      <td>3.4</td>\n    </tr>\n    <tr>\n      <th>32432</th>\n      <td>398367</td>\n      <td>2.6</td>\n      <td>2.4</td>\n      <td>4.5</td>\n      <td>2.3</td>\n      <td>1.0</td>\n      <td>3.6</td>\n      <td>3.4</td>\n      <td>1.4</td>\n      <td>2.5</td>\n      <td>...</td>\n      <td>2.4</td>\n      <td>1.0</td>\n      <td>3.4</td>\n      <td>2.4</td>\n      <td>3.6</td>\n      <td>3.0</td>\n      <td>3.0</td>\n      <td>4.6</td>\n      <td>3.6</td>\n      <td>2.4</td>\n    </tr>\n    <tr>\n      <th>32433</th>\n      <td>398375</td>\n      <td>2.8</td>\n      <td>2.4</td>\n      <td>3.9</td>\n      <td>4.5</td>\n      <td>3.6</td>\n      <td>1.0</td>\n      <td>2.5</td>\n      <td>1.8</td>\n      <td>3.0</td>\n      <td>...</td>\n      <td>2.5</td>\n      <td>1.0</td>\n      <td>3.0</td>\n      <td>2.1</td>\n      <td>3.0</td>\n      <td>3.0</td>\n      <td>3.0</td>\n      <td>2.7</td>\n      <td>2.5</td>\n      <td>2.5</td>\n    </tr>\n  </tbody>\n</table>\n<p>32434 rows × 26 columns</p>\n</div>"
     },
     "metadata": {},
     "execution_count": 4
    }
   ],
   "source": [
    "data_df"
   ]
  },
  {
   "cell_type": "code",
   "execution_count": 37,
   "metadata": {},
   "outputs": [
    {
     "output_type": "execute_result",
     "data": {
      "text/plain": [
       "       user_id    1    2    3    4    5    6    7    8    9  ...   16   17  \\\n",
       "0           26  2.3  1.6  2.5  2.3  1.6  2.2  2.7  1.4  3.9  ...  1.2  2.0   \n",
       "1           28  1.5  1.4  1.5  1.5  4.5  4.6  4.6  1.4  1.4  ...  1.5  1.6   \n",
       "2           34  4.6  3.5  4.6  2.0  4.4  1.4  4.0  4.6  3.8  ...  2.1  4.6   \n",
       "3           36  2.5  3.0  2.3  2.0  2.5  2.6  3.9  1.5  2.0  ...  1.8  1.5   \n",
       "4           45  1.4  2.6  2.5  2.6  3.5  3.5  2.4  3.5  3.0  ...  2.6  2.5   \n",
       "...        ...  ...  ...  ...  ...  ...  ...  ...  ...  ...  ...  ...  ...   \n",
       "32429   398186  1.8  4.1  3.9  2.5  3.0  4.0  3.0  3.0  2.1  ...  3.3  4.0   \n",
       "32430   398196  2.1  2.5  3.4  2.0  1.5  1.9  3.0  3.5  2.4  ...  2.5  1.9   \n",
       "32431   398243  2.5  3.1  2.7  2.8  3.6  4.2  3.6  3.3  3.7  ...  3.0  3.6   \n",
       "32432   398367  2.6  2.4  4.5  2.3  1.0  3.6  3.4  1.4  2.5  ...  2.4  1.0   \n",
       "32433   398375  2.8  2.4  3.9  4.5  3.6  1.0  2.5  1.8  3.0  ...  2.5  1.0   \n",
       "\n",
       "        18   19   20   21   22   23   24   25  \n",
       "0      2.0  1.5  3.8  3.0  3.0  2.5  2.7  4.3  \n",
       "1      4.5  1.5  1.5  1.5  1.6  4.5  1.4  1.5  \n",
       "2      1.3  2.0  3.2  2.0  2.0  4.5  1.6  4.6  \n",
       "3      2.4  2.6  1.8  3.0  3.0  3.0  2.9  3.4  \n",
       "4      3.4  1.3  3.5  2.7  3.4  2.5  2.6  2.5  \n",
       "...    ...  ...  ...  ...  ...  ...  ...  ...  \n",
       "32429  3.0  2.0  4.7  3.0  3.0  3.1  3.0  2.0  \n",
       "32430  2.4  2.3  3.5  3.0  3.0  2.4  3.6  3.6  \n",
       "32431  3.6  2.4  3.4  3.0  3.0  5.0  3.6  3.4  \n",
       "32432  3.4  2.4  3.6  3.0  3.0  4.6  3.6  2.4  \n",
       "32433  3.0  2.1  3.0  3.0  3.0  2.7  2.5  2.5  \n",
       "\n",
       "[32434 rows x 26 columns]"
      ],
      "text/html": "<div>\n<style scoped>\n    .dataframe tbody tr th:only-of-type {\n        vertical-align: middle;\n    }\n\n    .dataframe tbody tr th {\n        vertical-align: top;\n    }\n\n    .dataframe thead th {\n        text-align: right;\n    }\n</style>\n<table border=\"1\" class=\"dataframe\">\n  <thead>\n    <tr style=\"text-align: right;\">\n      <th></th>\n      <th>user_id</th>\n      <th>1</th>\n      <th>2</th>\n      <th>3</th>\n      <th>4</th>\n      <th>5</th>\n      <th>6</th>\n      <th>7</th>\n      <th>8</th>\n      <th>9</th>\n      <th>...</th>\n      <th>16</th>\n      <th>17</th>\n      <th>18</th>\n      <th>19</th>\n      <th>20</th>\n      <th>21</th>\n      <th>22</th>\n      <th>23</th>\n      <th>24</th>\n      <th>25</th>\n    </tr>\n  </thead>\n  <tbody>\n    <tr>\n      <th>0</th>\n      <td>26</td>\n      <td>2.3</td>\n      <td>1.6</td>\n      <td>2.5</td>\n      <td>2.3</td>\n      <td>1.6</td>\n      <td>2.2</td>\n      <td>2.7</td>\n      <td>1.4</td>\n      <td>3.9</td>\n      <td>...</td>\n      <td>1.2</td>\n      <td>2.0</td>\n      <td>2.0</td>\n      <td>1.5</td>\n      <td>3.8</td>\n      <td>3.0</td>\n      <td>3.0</td>\n      <td>2.5</td>\n      <td>2.7</td>\n      <td>4.3</td>\n    </tr>\n    <tr>\n      <th>1</th>\n      <td>28</td>\n      <td>1.5</td>\n      <td>1.4</td>\n      <td>1.5</td>\n      <td>1.5</td>\n      <td>4.5</td>\n      <td>4.6</td>\n      <td>4.6</td>\n      <td>1.4</td>\n      <td>1.4</td>\n      <td>...</td>\n      <td>1.5</td>\n      <td>1.6</td>\n      <td>4.5</td>\n      <td>1.5</td>\n      <td>1.5</td>\n      <td>1.5</td>\n      <td>1.6</td>\n      <td>4.5</td>\n      <td>1.4</td>\n      <td>1.5</td>\n    </tr>\n    <tr>\n      <th>2</th>\n      <td>34</td>\n      <td>4.6</td>\n      <td>3.5</td>\n      <td>4.6</td>\n      <td>2.0</td>\n      <td>4.4</td>\n      <td>1.4</td>\n      <td>4.0</td>\n      <td>4.6</td>\n      <td>3.8</td>\n      <td>...</td>\n      <td>2.1</td>\n      <td>4.6</td>\n      <td>1.3</td>\n      <td>2.0</td>\n      <td>3.2</td>\n      <td>2.0</td>\n      <td>2.0</td>\n      <td>4.5</td>\n      <td>1.6</td>\n      <td>4.6</td>\n    </tr>\n    <tr>\n      <th>3</th>\n      <td>36</td>\n      <td>2.5</td>\n      <td>3.0</td>\n      <td>2.3</td>\n      <td>2.0</td>\n      <td>2.5</td>\n      <td>2.6</td>\n      <td>3.9</td>\n      <td>1.5</td>\n      <td>2.0</td>\n      <td>...</td>\n      <td>1.8</td>\n      <td>1.5</td>\n      <td>2.4</td>\n      <td>2.6</td>\n      <td>1.8</td>\n      <td>3.0</td>\n      <td>3.0</td>\n      <td>3.0</td>\n      <td>2.9</td>\n      <td>3.4</td>\n    </tr>\n    <tr>\n      <th>4</th>\n      <td>45</td>\n      <td>1.4</td>\n      <td>2.6</td>\n      <td>2.5</td>\n      <td>2.6</td>\n      <td>3.5</td>\n      <td>3.5</td>\n      <td>2.4</td>\n      <td>3.5</td>\n      <td>3.0</td>\n      <td>...</td>\n      <td>2.6</td>\n      <td>2.5</td>\n      <td>3.4</td>\n      <td>1.3</td>\n      <td>3.5</td>\n      <td>2.7</td>\n      <td>3.4</td>\n      <td>2.5</td>\n      <td>2.6</td>\n      <td>2.5</td>\n    </tr>\n    <tr>\n      <th>...</th>\n      <td>...</td>\n      <td>...</td>\n      <td>...</td>\n      <td>...</td>\n      <td>...</td>\n      <td>...</td>\n      <td>...</td>\n      <td>...</td>\n      <td>...</td>\n      <td>...</td>\n      <td>...</td>\n      <td>...</td>\n      <td>...</td>\n      <td>...</td>\n      <td>...</td>\n      <td>...</td>\n      <td>...</td>\n      <td>...</td>\n      <td>...</td>\n      <td>...</td>\n      <td>...</td>\n    </tr>\n    <tr>\n      <th>32429</th>\n      <td>398186</td>\n      <td>1.8</td>\n      <td>4.1</td>\n      <td>3.9</td>\n      <td>2.5</td>\n      <td>3.0</td>\n      <td>4.0</td>\n      <td>3.0</td>\n      <td>3.0</td>\n      <td>2.1</td>\n      <td>...</td>\n      <td>3.3</td>\n      <td>4.0</td>\n      <td>3.0</td>\n      <td>2.0</td>\n      <td>4.7</td>\n      <td>3.0</td>\n      <td>3.0</td>\n      <td>3.1</td>\n      <td>3.0</td>\n      <td>2.0</td>\n    </tr>\n    <tr>\n      <th>32430</th>\n      <td>398196</td>\n      <td>2.1</td>\n      <td>2.5</td>\n      <td>3.4</td>\n      <td>2.0</td>\n      <td>1.5</td>\n      <td>1.9</td>\n      <td>3.0</td>\n      <td>3.5</td>\n      <td>2.4</td>\n      <td>...</td>\n      <td>2.5</td>\n      <td>1.9</td>\n      <td>2.4</td>\n      <td>2.3</td>\n      <td>3.5</td>\n      <td>3.0</td>\n      <td>3.0</td>\n      <td>2.4</td>\n      <td>3.6</td>\n      <td>3.6</td>\n    </tr>\n    <tr>\n      <th>32431</th>\n      <td>398243</td>\n      <td>2.5</td>\n      <td>3.1</td>\n      <td>2.7</td>\n      <td>2.8</td>\n      <td>3.6</td>\n      <td>4.2</td>\n      <td>3.6</td>\n      <td>3.3</td>\n      <td>3.7</td>\n      <td>...</td>\n      <td>3.0</td>\n      <td>3.6</td>\n      <td>3.6</td>\n      <td>2.4</td>\n      <td>3.4</td>\n      <td>3.0</td>\n      <td>3.0</td>\n      <td>5.0</td>\n      <td>3.6</td>\n      <td>3.4</td>\n    </tr>\n    <tr>\n      <th>32432</th>\n      <td>398367</td>\n      <td>2.6</td>\n      <td>2.4</td>\n      <td>4.5</td>\n      <td>2.3</td>\n      <td>1.0</td>\n      <td>3.6</td>\n      <td>3.4</td>\n      <td>1.4</td>\n      <td>2.5</td>\n      <td>...</td>\n      <td>2.4</td>\n      <td>1.0</td>\n      <td>3.4</td>\n      <td>2.4</td>\n      <td>3.6</td>\n      <td>3.0</td>\n      <td>3.0</td>\n      <td>4.6</td>\n      <td>3.6</td>\n      <td>2.4</td>\n    </tr>\n    <tr>\n      <th>32433</th>\n      <td>398375</td>\n      <td>2.8</td>\n      <td>2.4</td>\n      <td>3.9</td>\n      <td>4.5</td>\n      <td>3.6</td>\n      <td>1.0</td>\n      <td>2.5</td>\n      <td>1.8</td>\n      <td>3.0</td>\n      <td>...</td>\n      <td>2.5</td>\n      <td>1.0</td>\n      <td>3.0</td>\n      <td>2.1</td>\n      <td>3.0</td>\n      <td>3.0</td>\n      <td>3.0</td>\n      <td>2.7</td>\n      <td>2.5</td>\n      <td>2.5</td>\n    </tr>\n  </tbody>\n</table>\n<p>32434 rows × 26 columns</p>\n</div>"
     },
     "metadata": {},
     "execution_count": 37
    }
   ],
   "source": [
    "from sklearn.model_selection import train"
   ]
  },
  {
   "cell_type": "code",
   "execution_count": null,
   "metadata": {},
   "outputs": [],
   "source": []
  }
 ]
}