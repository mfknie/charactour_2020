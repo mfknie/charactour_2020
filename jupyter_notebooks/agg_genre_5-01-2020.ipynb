{
 "metadata": {
  "language_info": {
   "codemirror_mode": {
    "name": "ipython",
    "version": 3
   },
   "file_extension": ".py",
   "mimetype": "text/x-python",
   "name": "python",
   "nbconvert_exporter": "python",
   "pygments_lexer": "ipython3",
   "version": "3.6.12-final"
  },
  "orig_nbformat": 2,
  "kernelspec": {
   "name": "python3",
   "display_name": "Python 3"
  }
 },
 "nbformat": 4,
 "nbformat_minor": 2,
 "cells": [
  {
   "cell_type": "code",
   "execution_count": 2,
   "metadata": {},
   "outputs": [],
   "source": [
    "import pandas as pd \n",
    "import os\n",
    "import numpy as np "
   ]
  },
  {
   "cell_type": "code",
   "execution_count": 11,
   "metadata": {},
   "outputs": [],
   "source": [
    "agg_char_data = pd.read_excel(os.path.join(\"temp\", \"FanBaseData05-01-20.xlsx\"), header = 0, sheet_name = \"Percentile Likes\")"
   ]
  },
  {
   "cell_type": "code",
   "execution_count": 13,
   "metadata": {},
   "outputs": [],
   "source": [
    "agg_char_data.drop(0, axis = 0, inplace=True)\n",
    "agg_char_data.drop(\"Unnamed: 4\", axis = 1, inplace=True)"
   ]
  },
  {
   "cell_type": "code",
   "execution_count": 14,
   "metadata": {},
   "outputs": [
    {
     "output_type": "execute_result",
     "data": {
      "text/plain": [
       "     Unnamed: 0        Unnamed: 1  \\\n",
       "1         196.0   Geralt of Rivia   \n",
       "2         303.0   Motoko Kusanagi   \n",
       "3         313.0              Kiki   \n",
       "4         338.0  Satsuki Kusakabe   \n",
       "5         353.0      Mima Kirigoe   \n",
       "..          ...               ...   \n",
       "953      5191.0     Carol Danvers   \n",
       "954      5197.0     Miles Morales   \n",
       "955       100.0        Lara Croft   \n",
       "956       110.0         Max Payne   \n",
       "957       356.0          Ashitaka   \n",
       "\n",
       "                                        Unnamed: 2    Fans  Unnamed: 4  \\\n",
       "1                      Geralt-of-Rivia.The-Witcher   510.0         NaN   \n",
       "2               Mototo-Kusanagi.Ghost-in-the-Shell   290.0         NaN   \n",
       "3                      Kiki.Kikis-Delivery-Service  1020.0         NaN   \n",
       "4              Satsuki-Kusakabe.My-Neighbor-Totoro   435.0         NaN   \n",
       "5                        Mima-Kirigoe.Perfect-Blue   157.0         NaN   \n",
       "..                                             ...     ...         ...   \n",
       "953                   Carol-Danvers.Captain-Marvel    78.0         NaN   \n",
       "954  Miles-Morales.Spider-Man-Into-the-Spiderverse   140.0         NaN   \n",
       "955              Lara-Croft.Lara-Croft-Tomb-Raider   732.0         NaN   \n",
       "956                            Max-Payne.Max-Payne   130.0         NaN   \n",
       "957                     Ashitaka.Princess-Mononoke   451.0         NaN   \n",
       "\n",
       "       Chatty  Reserved     Cocky    Humble    Social  ...     Funny  \\\n",
       "1    0.169102  0.867432  0.760960  0.432150  0.387265  ...  0.863257   \n",
       "2    0.017745  0.938413  0.608559  0.472860  0.074113  ...  0.024008   \n",
       "3    0.239040  0.584551  0.116910  0.919624  0.092902  ...  0.236952   \n",
       "4    0.358038  0.581420  0.124217  0.971816  0.210856  ...  0.300626   \n",
       "5    0.152401  0.970772  0.053236  0.992693  0.014614  ...  0.099165   \n",
       "..        ...       ...       ...       ...       ...  ...       ...   \n",
       "953  0.184760  0.752610  0.438413  0.266180  0.956159  ...  0.565762   \n",
       "954  0.705637  0.697286  0.303758  0.415449  0.305846  ...  0.709812   \n",
       "955  0.352818  0.773486  0.672234  0.631524  0.398747  ...  0.462422   \n",
       "956  0.150313  0.980167  0.830898  0.212944  0.534447  ...  0.930063   \n",
       "957  0.077244  0.877871  0.265136  0.841336  0.099165  ...  0.081420   \n",
       "\n",
       "      Serious      Sexy  Romantically Challenged    Smooth    Clumsy  \\\n",
       "1    0.605428  0.584551                 0.575157  0.881002  0.110647   \n",
       "2    0.914405  0.397704                 0.807933  0.942589  0.089770   \n",
       "3    0.258873  0.349687                 0.837161  0.140919  0.750522   \n",
       "4    0.070981  0.198330                 0.912317  0.082463  0.954071   \n",
       "5    0.861169  0.881002                 0.424843  0.112735  0.519833   \n",
       "..        ...       ...                      ...       ...       ...   \n",
       "953  0.159708  0.705637                 0.330898  0.737996  0.156576   \n",
       "954  0.057411  0.627349                 0.717119  0.165971  0.960334   \n",
       "955  0.703549  0.776618                 0.455115  0.826722  0.274530   \n",
       "956  0.868476  0.832985                 0.500000  0.987474  0.021921   \n",
       "957  0.465553  0.472860                 0.896660  0.317328  0.581420   \n",
       "\n",
       "     Manipulative   Passive  Dishonest    Honest  \n",
       "1        0.807933  0.172234   0.614823  0.318372  \n",
       "2        0.808977  0.218163   0.496868  0.680585  \n",
       "3        0.206681  0.409186   0.297495  0.225470  \n",
       "4        0.259916  0.270355   0.399791  0.063674  \n",
       "5        0.408142  0.200418   0.494781  0.678497  \n",
       "..            ...       ...        ...       ...  \n",
       "953      0.144050  0.669102   0.059499  0.085595  \n",
       "954      0.022965  0.587683   0.148225  0.102296  \n",
       "955      0.704593  0.224426   0.592902  0.450939  \n",
       "956      0.940501  0.568894   0.931106  0.735908  \n",
       "957      0.436326  0.306889   0.480167  0.412317  \n",
       "\n",
       "[957 rows x 51 columns]"
      ],
      "text/html": "<div>\n<style scoped>\n    .dataframe tbody tr th:only-of-type {\n        vertical-align: middle;\n    }\n\n    .dataframe tbody tr th {\n        vertical-align: top;\n    }\n\n    .dataframe thead th {\n        text-align: right;\n    }\n</style>\n<table border=\"1\" class=\"dataframe\">\n  <thead>\n    <tr style=\"text-align: right;\">\n      <th></th>\n      <th>Unnamed: 0</th>\n      <th>Unnamed: 1</th>\n      <th>Unnamed: 2</th>\n      <th>Fans</th>\n      <th>Unnamed: 4</th>\n      <th>Chatty</th>\n      <th>Reserved</th>\n      <th>Cocky</th>\n      <th>Humble</th>\n      <th>Social</th>\n      <th>...</th>\n      <th>Funny</th>\n      <th>Serious</th>\n      <th>Sexy</th>\n      <th>Romantically Challenged</th>\n      <th>Smooth</th>\n      <th>Clumsy</th>\n      <th>Manipulative</th>\n      <th>Passive</th>\n      <th>Dishonest</th>\n      <th>Honest</th>\n    </tr>\n  </thead>\n  <tbody>\n    <tr>\n      <th>1</th>\n      <td>196.0</td>\n      <td>Geralt of Rivia</td>\n      <td>Geralt-of-Rivia.The-Witcher</td>\n      <td>510.0</td>\n      <td>NaN</td>\n      <td>0.169102</td>\n      <td>0.867432</td>\n      <td>0.760960</td>\n      <td>0.432150</td>\n      <td>0.387265</td>\n      <td>...</td>\n      <td>0.863257</td>\n      <td>0.605428</td>\n      <td>0.584551</td>\n      <td>0.575157</td>\n      <td>0.881002</td>\n      <td>0.110647</td>\n      <td>0.807933</td>\n      <td>0.172234</td>\n      <td>0.614823</td>\n      <td>0.318372</td>\n    </tr>\n    <tr>\n      <th>2</th>\n      <td>303.0</td>\n      <td>Motoko Kusanagi</td>\n      <td>Mototo-Kusanagi.Ghost-in-the-Shell</td>\n      <td>290.0</td>\n      <td>NaN</td>\n      <td>0.017745</td>\n      <td>0.938413</td>\n      <td>0.608559</td>\n      <td>0.472860</td>\n      <td>0.074113</td>\n      <td>...</td>\n      <td>0.024008</td>\n      <td>0.914405</td>\n      <td>0.397704</td>\n      <td>0.807933</td>\n      <td>0.942589</td>\n      <td>0.089770</td>\n      <td>0.808977</td>\n      <td>0.218163</td>\n      <td>0.496868</td>\n      <td>0.680585</td>\n    </tr>\n    <tr>\n      <th>3</th>\n      <td>313.0</td>\n      <td>Kiki</td>\n      <td>Kiki.Kikis-Delivery-Service</td>\n      <td>1020.0</td>\n      <td>NaN</td>\n      <td>0.239040</td>\n      <td>0.584551</td>\n      <td>0.116910</td>\n      <td>0.919624</td>\n      <td>0.092902</td>\n      <td>...</td>\n      <td>0.236952</td>\n      <td>0.258873</td>\n      <td>0.349687</td>\n      <td>0.837161</td>\n      <td>0.140919</td>\n      <td>0.750522</td>\n      <td>0.206681</td>\n      <td>0.409186</td>\n      <td>0.297495</td>\n      <td>0.225470</td>\n    </tr>\n    <tr>\n      <th>4</th>\n      <td>338.0</td>\n      <td>Satsuki Kusakabe</td>\n      <td>Satsuki-Kusakabe.My-Neighbor-Totoro</td>\n      <td>435.0</td>\n      <td>NaN</td>\n      <td>0.358038</td>\n      <td>0.581420</td>\n      <td>0.124217</td>\n      <td>0.971816</td>\n      <td>0.210856</td>\n      <td>...</td>\n      <td>0.300626</td>\n      <td>0.070981</td>\n      <td>0.198330</td>\n      <td>0.912317</td>\n      <td>0.082463</td>\n      <td>0.954071</td>\n      <td>0.259916</td>\n      <td>0.270355</td>\n      <td>0.399791</td>\n      <td>0.063674</td>\n    </tr>\n    <tr>\n      <th>5</th>\n      <td>353.0</td>\n      <td>Mima Kirigoe</td>\n      <td>Mima-Kirigoe.Perfect-Blue</td>\n      <td>157.0</td>\n      <td>NaN</td>\n      <td>0.152401</td>\n      <td>0.970772</td>\n      <td>0.053236</td>\n      <td>0.992693</td>\n      <td>0.014614</td>\n      <td>...</td>\n      <td>0.099165</td>\n      <td>0.861169</td>\n      <td>0.881002</td>\n      <td>0.424843</td>\n      <td>0.112735</td>\n      <td>0.519833</td>\n      <td>0.408142</td>\n      <td>0.200418</td>\n      <td>0.494781</td>\n      <td>0.678497</td>\n    </tr>\n    <tr>\n      <th>...</th>\n      <td>...</td>\n      <td>...</td>\n      <td>...</td>\n      <td>...</td>\n      <td>...</td>\n      <td>...</td>\n      <td>...</td>\n      <td>...</td>\n      <td>...</td>\n      <td>...</td>\n      <td>...</td>\n      <td>...</td>\n      <td>...</td>\n      <td>...</td>\n      <td>...</td>\n      <td>...</td>\n      <td>...</td>\n      <td>...</td>\n      <td>...</td>\n      <td>...</td>\n      <td>...</td>\n    </tr>\n    <tr>\n      <th>953</th>\n      <td>5191.0</td>\n      <td>Carol Danvers</td>\n      <td>Carol-Danvers.Captain-Marvel</td>\n      <td>78.0</td>\n      <td>NaN</td>\n      <td>0.184760</td>\n      <td>0.752610</td>\n      <td>0.438413</td>\n      <td>0.266180</td>\n      <td>0.956159</td>\n      <td>...</td>\n      <td>0.565762</td>\n      <td>0.159708</td>\n      <td>0.705637</td>\n      <td>0.330898</td>\n      <td>0.737996</td>\n      <td>0.156576</td>\n      <td>0.144050</td>\n      <td>0.669102</td>\n      <td>0.059499</td>\n      <td>0.085595</td>\n    </tr>\n    <tr>\n      <th>954</th>\n      <td>5197.0</td>\n      <td>Miles Morales</td>\n      <td>Miles-Morales.Spider-Man-Into-the-Spiderverse</td>\n      <td>140.0</td>\n      <td>NaN</td>\n      <td>0.705637</td>\n      <td>0.697286</td>\n      <td>0.303758</td>\n      <td>0.415449</td>\n      <td>0.305846</td>\n      <td>...</td>\n      <td>0.709812</td>\n      <td>0.057411</td>\n      <td>0.627349</td>\n      <td>0.717119</td>\n      <td>0.165971</td>\n      <td>0.960334</td>\n      <td>0.022965</td>\n      <td>0.587683</td>\n      <td>0.148225</td>\n      <td>0.102296</td>\n    </tr>\n    <tr>\n      <th>955</th>\n      <td>100.0</td>\n      <td>Lara Croft</td>\n      <td>Lara-Croft.Lara-Croft-Tomb-Raider</td>\n      <td>732.0</td>\n      <td>NaN</td>\n      <td>0.352818</td>\n      <td>0.773486</td>\n      <td>0.672234</td>\n      <td>0.631524</td>\n      <td>0.398747</td>\n      <td>...</td>\n      <td>0.462422</td>\n      <td>0.703549</td>\n      <td>0.776618</td>\n      <td>0.455115</td>\n      <td>0.826722</td>\n      <td>0.274530</td>\n      <td>0.704593</td>\n      <td>0.224426</td>\n      <td>0.592902</td>\n      <td>0.450939</td>\n    </tr>\n    <tr>\n      <th>956</th>\n      <td>110.0</td>\n      <td>Max Payne</td>\n      <td>Max-Payne.Max-Payne</td>\n      <td>130.0</td>\n      <td>NaN</td>\n      <td>0.150313</td>\n      <td>0.980167</td>\n      <td>0.830898</td>\n      <td>0.212944</td>\n      <td>0.534447</td>\n      <td>...</td>\n      <td>0.930063</td>\n      <td>0.868476</td>\n      <td>0.832985</td>\n      <td>0.500000</td>\n      <td>0.987474</td>\n      <td>0.021921</td>\n      <td>0.940501</td>\n      <td>0.568894</td>\n      <td>0.931106</td>\n      <td>0.735908</td>\n    </tr>\n    <tr>\n      <th>957</th>\n      <td>356.0</td>\n      <td>Ashitaka</td>\n      <td>Ashitaka.Princess-Mononoke</td>\n      <td>451.0</td>\n      <td>NaN</td>\n      <td>0.077244</td>\n      <td>0.877871</td>\n      <td>0.265136</td>\n      <td>0.841336</td>\n      <td>0.099165</td>\n      <td>...</td>\n      <td>0.081420</td>\n      <td>0.465553</td>\n      <td>0.472860</td>\n      <td>0.896660</td>\n      <td>0.317328</td>\n      <td>0.581420</td>\n      <td>0.436326</td>\n      <td>0.306889</td>\n      <td>0.480167</td>\n      <td>0.412317</td>\n    </tr>\n  </tbody>\n</table>\n<p>957 rows × 51 columns</p>\n</div>"
     },
     "metadata": {},
     "execution_count": 14
    }
   ],
   "source": [
    "agg_char_data"
   ]
  },
  {
   "cell_type": "code",
   "execution_count": 15,
   "metadata": {},
   "outputs": [
    {
     "output_type": "execute_result",
     "data": {
      "text/plain": [
       "Index(['Unnamed: 0', 'Unnamed: 1', 'Unnamed: 2', 'Fans', 'Unnamed: 4',\n",
       "       'Chatty', 'Reserved', 'Cocky', 'Humble', 'Social', 'Solitary',\n",
       "       'Selfless', 'Selfish', 'Polite', 'Crude', 'Optimistic', 'Cynical',\n",
       "       'Organized', 'Disorganized', 'Determined', 'Lazy', 'Sensitive',\n",
       "       'Thick Skinned', 'Sad', 'Happy', 'Hotheaded', 'Easy Going', 'Anal',\n",
       "       'Free Spirited', 'Neurotic', 'Calm', 'Traditional', 'Quirky',\n",
       "       'Fearless', 'Risk Averse', 'Brainy', 'Not Book Smart', 'Highbrow',\n",
       "       'Lowbrow', 'Responsible', 'Immature', 'Funny', 'Serious', 'Sexy',\n",
       "       'Romantically Challenged', 'Smooth', 'Clumsy', 'Manipulative',\n",
       "       'Passive', 'Dishonest', 'Honest'],\n",
       "      dtype='object')"
      ]
     },
     "metadata": {},
     "execution_count": 15
    }
   ],
   "source": [
    "agg_char_data.columns"
   ]
  },
  {
   "cell_type": "code",
   "execution_count": null,
   "metadata": {},
   "outputs": [],
   "source": []
  }
 ]
}